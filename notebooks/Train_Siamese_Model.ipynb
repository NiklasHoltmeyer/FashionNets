{
  "nbformat": 4,
  "nbformat_minor": 0,
  "metadata": {
    "colab": {
      "name": "Train_Siamese_Model.ipynb",
      "provenance": [],
      "collapsed_sections": []
    },
    "kernelspec": {
      "name": "python3",
      "display_name": "Python 3"
    },
    "language_info": {
      "name": "python"
    }
  },
  "cells": [
    {
      "cell_type": "code",
      "metadata": {
        "id": "A1CkKf7yIqPf"
      },
      "source": [
        "job_worker_name = \"g_i\""
      ],
      "execution_count": null,
      "outputs": []
    },
    {
      "cell_type": "code",
      "metadata": {
        "id": "hKP6LJm6mpbl",
        "cellView": "form"
      },
      "source": [
        "#@title Pip Installs\n",
        "!pip uninstall -y fashion_nets\n",
        "!pip install -q git+https://github.com/NiklasHoltmeyer/FashionNets.git"
      ],
      "execution_count": null,
      "outputs": []
    },
    {
      "cell_type": "code",
      "metadata": {
        "id": "1b3Emo_9wt2q",
        "cellView": "form"
      },
      "source": [
        "#@title Init Kaggle\n",
        "from fashionnets.train_jobs.jobs import load_job_from_notebook_name\n",
        "from fashionnets.train_jobs.jobs import load_train_job\n",
        "from fashionnets.train_jobs.notebook_environments import GoogleColabEnvironment\n",
        "\n",
        "GoogleColabEnvironment().load_kaggle()\n",
        "\n",
        "settings = load_job_from_notebook_name(job_worker_name)\n",
        "import kaggle\n",
        "kaggle.api.authenticate()\n",
        "\n",
        "settings[\"environment\"].load_dependencies(kaggle_downloader=kaggle.api.dataset_download_files,\n",
        "                                          skip_preprocess=True)  # <- doesnt work from within library"
      ],
      "execution_count": null,
      "outputs": []
    },
    {
      "cell_type": "code",
      "metadata": {
        "id": "QJ8tBUgg3tBh",
        "cellView": "form"
      },
      "source": [
        "#@title Prepare Dataset\n",
        "additional_settings = {\n",
        "    \"name\": settings[\"environment\"].train_job_name,\n",
        "    \"target_shape\": settings[\"input_shape\"],\n",
        "    \"format\": \"triplet\" if settings[\"is_triplet\"] else \"quadtruplet\"\n",
        "}\n",
        "\n",
        "train_job = load_train_job(**additional_settings, **settings)\n",
        "train_job = {**additional_settings, **settings, **train_job}\n",
        "datasets = train_job[\"run\"][\"dataset\"]\n",
        "train_ds, val_ds = datasets[\"train\"], datasets[\"val\"]\n",
        "\n",
        "result_uploader = settings[\"environment\"].webdav"
      ],
      "execution_count": null,
      "outputs": []
    },
    {
      "cell_type": "code",
      "metadata": {
        "id": "_1L_pP8s_Akn"
      },
      "source": [
        "siamese_model, init_epoch, callbacks = load_siamese_model(train_job, input_shape=train_job[\"input_shape\"],\n",
        "                                                          verbose=train_job[\"verbose\"],\n",
        "                                                          result_uploader=result_uploader)"
      ],
      "execution_count": null,
      "outputs": []
    },
    {
      "cell_type": "code",
      "metadata": {
        "id": "kSrJEw9OCXL3"
      },
      "source": [
        "siamese_model.fit(train_ds, epochs=train_job[\"epochs\"], validation_data=val_ds, callbacks=callbacks,\n",
        "                  initial_epoch=init_epoch)"
      ],
      "execution_count": null,
      "outputs": []
    }
  ]
}