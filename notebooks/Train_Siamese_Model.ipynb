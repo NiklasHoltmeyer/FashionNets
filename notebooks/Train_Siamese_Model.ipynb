{
  "nbformat": 4,
  "nbformat_minor": 0,
  "metadata": {
    "accelerator": "GPU",
    "colab": {
      "name": "Train_Siamese_Model.ipynb",
      "provenance": [],
      "collapsed_sections": []
    },
    "kernelspec": {
      "display_name": "Python 3",
      "name": "python3"
    },
    "language_info": {
      "name": "python"
    }
  },
  "cells": [
    {
      "cell_type": "code",
      "metadata": {
        "id": "A1CkKf7yIqPf"
      },
      "source": [
        "job_worker_name = \"g_t_1e5aug_none\" \n",
        "!pip uninstall -y fashion_nets\n",
        "!pip uninstall -y fashion_datasets"
      ],
      "execution_count": null,
      "outputs": []
    },
    {
      "cell_type": "code",
      "metadata": {
        "id": "zRy4SDO4EK-j"
      },
      "source": [
        "#@title Pip Installs & Imports\n",
        "#!pip uninstall -y fashion_nets\n",
        "!pip install -q git+https://github.com/NiklasHoltmeyer/FashionNets.git\n",
        "try: \n",
        "  from fashionnets.train_jobs.loader.job_loader import prepare_environment, load_job_settings, history_to_csv_string\n",
        "  from fashionnets.train_jobs.loader.model_loader import load_siamese_model_from_train_job\n",
        "except:\n",
        "  from fashionnets.train_jobs.loader.job_loader import prepare_environment, load_job_settings, history_to_csv_string\n",
        "  from fashionnets.train_jobs.loader.model_loader import load_siamese_model_from_train_job\n",
        "\n",
        "from fashionnets.train_jobs.loader.dataset_loader import build_dataset_hard_pairs_deep_fashion_1\n",
        "import tensorflow as tf\n",
        "from fashionnets.train_jobs.loader.dataset_loader import total_epochs"
      ],
      "execution_count": null,
      "outputs": []
    },
    {
      "cell_type": "code",
      "metadata": {
        "cellView": "form",
        "id": "sJs0EWXV6MUy"
      },
      "source": [
        "#@title Prepare Environment. Download Datasets\n",
        "from fashionnets.train_jobs.loader.job_loader import add_back_bone_to_train_job\n",
        "\n",
        "environment, training_job_cfg = prepare_environment(job_worker_name, debugging=False)\n",
        "import kaggle #<- Requires Secrets, therefore prepare_environment needs to be run before\n",
        "kaggle.api.authenticate()\n",
        "\n",
        "kaggle_downloader = kaggle.api.dataset_download_files #<- sadly needs to be injected\n",
        "\n",
        "train_job = load_job_settings(environment=environment, training_job_cfg=training_job_cfg, kaggle_downloader=kaggle_downloader)\n",
        "\n",
        "job_settings = add_back_bone_to_train_job(environment=environment, **training_job_cfg)"
      ],
      "execution_count": null,
      "outputs": []
    },
    {
      "cell_type": "code",
      "metadata": {
        "id": "sOTwpcmrY6QS"
      },
      "source": [
        "!rm -rf /content/results\n",
        "!rm -rf /content/sample_data\n",
        "!mkdir -p /content/results"
      ],
      "execution_count": null,
      "outputs": []
    },
    {
      "cell_type": "code",
      "metadata": {
        "id": "hZtzix-zhOia"
      },
      "source": [
        "siamese_model, init_epoch, _callbacks = load_siamese_model_from_train_job(load_weights=True, **train_job)\n",
        "print(\"init_epoch\", init_epoch)\n",
        "print(\"Callbacks\", _callbacks)"
      ],
      "execution_count": null,
      "outputs": []
    },
    {
      "cell_type": "code",
      "metadata": {
        "id": "waB6TefrAav6"
      },
      "source": [
        "import os \n",
        "build_frequency = 5\n",
        "\n",
        "for i in range(20):\n",
        "    total_epochs_ = total_epochs(init_epoch, build_frequency)\n",
        "    if init_epoch < 10:\n",
        "      dataset = build_dataset_hard_pairs_deep_fashion_1(siamese_model, \n",
        "                            job_settings, \n",
        "                            init_epoch=0, \n",
        "                            build_frequency=build_frequency)\n",
        "    else:\n",
        "        dataset = build_dataset_hard_pairs_deep_fashion_1(siamese_model, \n",
        "                            job_settings, \n",
        "                            init_epoch=init_epoch, \n",
        "                            build_frequency=build_frequency)\n",
        "\n",
        "    \n",
        "    history = siamese_model.fit(dataset[\"train\"], \n",
        "                            epochs=total_epochs_, \n",
        "                            validation_data=dataset[\"val\"],                             \n",
        "                            initial_epoch=init_epoch, \n",
        "                            callbacks = _callbacks)\n",
        "    \n",
        "    init_epoch += build_frequency\n",
        "    try:\n",
        "      os.system(\"/content/results/*.zip\", \"/gdrive/MyDrive/results\")\n",
        "    except:\n",
        "      pass"
      ],
      "execution_count": null,
      "outputs": []
    },
    {
      "cell_type": "code",
      "metadata": {
        "id": "SWFO10Q1BFcR"
      },
      "source": [
        "_callbacks[-1].on_epoch_end(1000, None)"
      ],
      "execution_count": null,
      "outputs": []
    },
    {
      "cell_type": "code",
      "metadata": {
        "id": "4aGxguvVlPSy"
      },
      "source": [
        ""
      ],
      "execution_count": null,
      "outputs": []
    }
  ]
}