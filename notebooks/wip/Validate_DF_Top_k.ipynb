{
 "cells": [
  {
   "cell_type": "code",
   "execution_count": null,
   "id": "5d056292",
   "metadata": {},
   "outputs": [],
   "source": [
    "from fashionscrapper.utils.list import flatten, distinct\n",
    "\n",
    "import numpy as np\n",
    "from tqdm.auto import tqdm\n",
    "from fashiondatasets.deepfashion2.helper.pairs.similar_embeddings import calculate_most_similar\n",
    "from fashiondatasets.deepfashion1.helper.cbir_helper import flatten_distinct_values\n",
    "from fashiondatasets.utils.list import parallel_map\n",
    "from fashiondatasets.deepfashion1.DeepFashion1CBIR import DeepFashion1CBIR\n",
    "from fashiondatasets.deepfashion1.helper.notebook import distances_existence_filtered, load_results, calc_top_k_from_embeddings\n",
    "import numpy as np\n",
    "import pickle\n",
    "\n",
    "base_path = r\"F:\\workspace\\datasets\\deep_fashion_1_256\"\n",
    "emb_base = r\"C:\\workspace\""
   ]
  },
  {
   "cell_type": "code",
   "execution_count": null,
   "id": "9e6c1d73",
   "metadata": {},
   "outputs": [],
   "source": [
    "jobs = distances_existence_filtered(emb_base, False)\n",
    "embedding_path = jobs[1][0]\n",
    "embedding_path"
   ]
  },
  {
   "cell_type": "code",
   "execution_count": null,
   "id": "c5df89b1",
   "metadata": {},
   "outputs": [],
   "source": [
    "r = calc_top_k_from_embeddings(base_path, embedding_path)"
   ]
  },
  {
   "cell_type": "code",
   "execution_count": null,
   "id": "494e137a",
   "metadata": {},
   "outputs": [],
   "source": [
    "jobs"
   ]
  },
  {
   "cell_type": "code",
   "execution_count": null,
   "id": "4cd9d09f",
   "metadata": {},
   "outputs": [],
   "source": [
    "results = load_results(emb_base, verbose=True)"
   ]
  },
  {
   "cell_type": "code",
   "execution_count": null,
   "id": "5fe91306",
   "metadata": {},
   "outputs": [],
   "source": [
    "results[0].keys()"
   ]
  },
  {
   "cell_type": "code",
   "execution_count": null,
   "id": "3deb0c2f",
   "metadata": {},
   "outputs": [],
   "source": [
    "data = [{k: r[k] for k in [k for k in r.keys() if k != \"result\"]} for r in results]\n",
    "import pandas as pd \n",
    "pd.DataFrame(data)\n",
    "\n",
    "\n",
    "#embedding_path"
   ]
  },
  {
   "cell_type": "code",
   "execution_count": null,
   "id": "9b5f760b",
   "metadata": {},
   "outputs": [],
   "source": [
    "def clean_result(r):\n",
    "    return r[\"query\"], r[\"distances\"][\"matches\"]\n",
    "    "
   ]
  },
  {
   "cell_type": "code",
   "execution_count": null,
   "id": "aa3eaef6",
   "metadata": {},
   "outputs": [],
   "source": [
    "from collections import defaultdict\n",
    "data = defaultdict(lambda: [])\n",
    "\n",
    "for r in results:\n",
    "    for l in r[\"result\"]:\n",
    "        q, matches = clean_result(l)\n",
    "        data[q].extend(matches)"
   ]
  },
  {
   "cell_type": "code",
   "execution_count": null,
   "id": "500d02d1",
   "metadata": {},
   "outputs": [],
   "source": [
    "data_distances = {}\n",
    "data_dist_idxs = {}\n",
    "for q, matches in data.items():\n",
    "    distances = min([x[1] for x in matches])\n",
    "    idxs = min([x[2] for x in matches])    \n",
    "    \n",
    "    data_distances[q] = (distances, matches)\n",
    "    data_dist_idxs[q] = (idxs, matches)\n",
    "    \n",
    "data_distances = {k: v for k, v in reversed(sorted(data_distances.items(), key=lambda item: item[1][0]))}\n",
    "data_dist_idxs = {k: v for k, v in reversed(sorted(data_dist_idxs.items(), key=lambda item: item[1][0]))}"
   ]
  },
  {
   "cell_type": "code",
   "execution_count": null,
   "id": "51deaa3f",
   "metadata": {},
   "outputs": [],
   "source": [
    "from PIL import Image\n",
    "import matplotlib.pyplot as plt"
   ]
  },
  {
   "cell_type": "code",
   "execution_count": null,
   "id": "2509451a",
   "metadata": {
    "scrolled": true
   },
   "outputs": [],
   "source": [
    "import os\n",
    "f_path = lambda f: os.path.join(r\"F:\\workspace\\datasets\\deep_fashion_1_256\\img\", f)\n",
    "start = 50\n",
    "__data = list(data_distances.items())[start:start+25]\n",
    "for q, (dist, matches) in __data:\n",
    "    matches = distinct([f_path(m) for m, dist, idx in matches])\n",
    "\n",
    "    a = Image.open(f_path(q))    \n",
    "    fig = plt.figure()\n",
    "    \n",
    "    ax1 = fig.add_subplot(2,2,1)    \n",
    "    ax1.imshow(a)\n",
    "    ax1.title.set_text(q.replace(r\"F:\\workspace\\datasets\\deep_fashion_1_256\\img\\img\\img\", \"\").replace(\"img/\", \"\"))\n",
    "    plt.axis('off')\n",
    "    \n",
    "    for m in matches:\n",
    "        p = Image.open(m)\n",
    "        \n",
    "        ax2 = fig.add_subplot(2,2,2)\n",
    "        ax2.imshow(p)\n",
    "        #ax2.title.set_text(m.replace(r\"F:\\workspace\\datasets\\deep_fashion_1_256\\img\", \"\").replace(\"img/\", \"\"))\n",
    "        plt.axis('off')\n",
    "        plt.xlabel(q)"
   ]
  },
  {
   "cell_type": "code",
   "execution_count": null,
   "id": "c8767a07",
   "metadata": {},
   "outputs": [],
   "source": []
  },
  {
   "cell_type": "code",
   "execution_count": null,
   "id": "2a164a44",
   "metadata": {},
   "outputs": [],
   "source": []
  },
  {
   "cell_type": "code",
   "execution_count": null,
   "id": "ae8e6301",
   "metadata": {},
   "outputs": [],
   "source": []
  },
  {
   "cell_type": "code",
   "execution_count": null,
   "id": "f4548fb7",
   "metadata": {},
   "outputs": [],
   "source": []
  }
 ],
 "metadata": {
  "kernelspec": {
   "display_name": "Python 3",
   "language": "python",
   "name": "python3"
  },
  "language_info": {
   "codemirror_mode": {
    "name": "ipython",
    "version": 3
   },
   "file_extension": ".py",
   "mimetype": "text/x-python",
   "name": "python",
   "nbconvert_exporter": "python",
   "pygments_lexer": "ipython3",
   "version": "3.8.8"
  }
 },
 "nbformat": 4,
 "nbformat_minor": 5
}
